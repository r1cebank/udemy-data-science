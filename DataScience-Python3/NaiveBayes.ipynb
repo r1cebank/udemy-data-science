{
 "cells": [
  {
   "cell_type": "markdown",
   "metadata": {},
   "source": [
    "# Naive Bayes (the easy way)"
   ]
  },
  {
   "cell_type": "markdown",
   "metadata": {},
   "source": [
    "We'll cheat by using sklearn.naive_bayes to train a spam classifier! Most of the code is just loading our training data into a pandas DataFrame that we can play with:"
   ]
  },
  {
   "cell_type": "code",
   "execution_count": 29,
   "metadata": {},
   "outputs": [],
   "source": [
    "import os\n",
    "import io\n",
    "import numpy\n",
    "from pandas import DataFrame\n",
    "from sklearn.feature_extraction.text import CountVectorizer\n",
    "from sklearn.naive_bayes import MultinomialNB\n",
    "\n",
    "def readFiles(path):\n",
    "    for root, dirnames, filenames in os.walk(path):\n",
    "        for filename in filenames:\n",
    "            path = os.path.join(root, filename)\n",
    "\n",
    "            inBody = False\n",
    "            lines = []\n",
    "            f = io.open(path, 'r', encoding='latin1')\n",
    "            for line in f:\n",
    "                if inBody:\n",
    "                    lines.append(line)\n",
    "                elif line == '\\n':\n",
    "                    inBody = True\n",
    "            f.close()\n",
    "            message = '\\n'.join(lines)\n",
    "            yield path, message\n",
    "\n",
    "\n",
    "def dataFrameFromDirectory(path, classification):\n",
    "    rows = []\n",
    "    index = []\n",
    "    for filename, message in readFiles(path):\n",
    "        rows.append({'message': message, 'class': classification})\n",
    "        index.append(filename)\n",
    "\n",
    "    return DataFrame(rows, index=index)\n",
    "\n",
    "data = DataFrame({'message': [], 'class': []})\n",
    "\n",
    "data = data.append(dataFrameFromDirectory('/home/siyuan/Documents/udemy-data-science/DataScience-Python3/emails/spam', 'spam'))\n",
    "data = data.append(dataFrameFromDirectory('/home/siyuan/Documents/udemy-data-science/DataScience-Python3/emails/ham', 'ham'))\n",
    "\n",
    "data = data.sample(frac=1)\n",
    "\n",
    "training_data = data[:2000]\n",
    "test_data = data[2000:]"
   ]
  },
  {
   "cell_type": "markdown",
   "metadata": {},
   "source": [
    "Let's have a look at that DataFrame:"
   ]
  },
  {
   "cell_type": "code",
   "execution_count": 30,
   "metadata": {},
   "outputs": [
    {
     "data": {
      "text/html": [
       "<div>\n",
       "<style scoped>\n",
       "    .dataframe tbody tr th:only-of-type {\n",
       "        vertical-align: middle;\n",
       "    }\n",
       "\n",
       "    .dataframe tbody tr th {\n",
       "        vertical-align: top;\n",
       "    }\n",
       "\n",
       "    .dataframe thead th {\n",
       "        text-align: right;\n",
       "    }\n",
       "</style>\n",
       "<table border=\"1\" class=\"dataframe\">\n",
       "  <thead>\n",
       "    <tr style=\"text-align: right;\">\n",
       "      <th></th>\n",
       "      <th>class</th>\n",
       "      <th>message</th>\n",
       "    </tr>\n",
       "  </thead>\n",
       "  <tbody>\n",
       "    <tr>\n",
       "      <th>/home/siyuan/Documents/udemy-data-science/DataScience-Python3/emails/spam/00253.83b95b05e275286eddcf557ea581e754</th>\n",
       "      <td>spam</td>\n",
       "      <td>There is NO stumbling on to it! \\n\\n\\n\\nThe gr...</td>\n",
       "    </tr>\n",
       "    <tr>\n",
       "      <th>/home/siyuan/Documents/udemy-data-science/DataScience-Python3/emails/ham/01455.6f59785ae19e2d0c92f0f18764e5e8a6</th>\n",
       "      <td>ham</td>\n",
       "      <td>&gt;&gt;&gt;&gt;&gt; \"CW\" == Carlo Wood &lt;carlo@alinoe.com&gt; wr...</td>\n",
       "    </tr>\n",
       "    <tr>\n",
       "      <th>/home/siyuan/Documents/udemy-data-science/DataScience-Python3/emails/ham/02100.9e565da6180ec3bcba22c6de299c27a6</th>\n",
       "      <td>ham</td>\n",
       "      <td>URL: http://www.newsisfree.com/click/-2,841779...</td>\n",
       "    </tr>\n",
       "    <tr>\n",
       "      <th>/home/siyuan/Documents/udemy-data-science/DataScience-Python3/emails/ham/01912.a26e261a1b2b9af7d0c2a4341f173786</th>\n",
       "      <td>ham</td>\n",
       "      <td>URL: http://boingboing.net/#85490092\\n\\nDate: ...</td>\n",
       "    </tr>\n",
       "    <tr>\n",
       "      <th>/home/siyuan/Documents/udemy-data-science/DataScience-Python3/emails/ham/01970.953f97d05583f057ab9a56bf1e8a9087</th>\n",
       "      <td>ham</td>\n",
       "      <td>URL: http://www.newsisfree.com/click/-4,804534...</td>\n",
       "    </tr>\n",
       "  </tbody>\n",
       "</table>\n",
       "</div>"
      ],
      "text/plain": [
       "                                                   class  \\\n",
       "/home/siyuan/Documents/udemy-data-science/DataS...  spam   \n",
       "/home/siyuan/Documents/udemy-data-science/DataS...   ham   \n",
       "/home/siyuan/Documents/udemy-data-science/DataS...   ham   \n",
       "/home/siyuan/Documents/udemy-data-science/DataS...   ham   \n",
       "/home/siyuan/Documents/udemy-data-science/DataS...   ham   \n",
       "\n",
       "                                                                                              message  \n",
       "/home/siyuan/Documents/udemy-data-science/DataS...  There is NO stumbling on to it! \\n\\n\\n\\nThe gr...  \n",
       "/home/siyuan/Documents/udemy-data-science/DataS...  >>>>> \"CW\" == Carlo Wood <carlo@alinoe.com> wr...  \n",
       "/home/siyuan/Documents/udemy-data-science/DataS...  URL: http://www.newsisfree.com/click/-2,841779...  \n",
       "/home/siyuan/Documents/udemy-data-science/DataS...  URL: http://boingboing.net/#85490092\\n\\nDate: ...  \n",
       "/home/siyuan/Documents/udemy-data-science/DataS...  URL: http://www.newsisfree.com/click/-4,804534...  "
      ]
     },
     "execution_count": 30,
     "metadata": {},
     "output_type": "execute_result"
    }
   ],
   "source": [
    "test_data.head()"
   ]
  },
  {
   "cell_type": "markdown",
   "metadata": {},
   "source": [
    "Now we will use a CountVectorizer to split up each message into its list of words, and throw that into a MultinomialNB classifier. Call fit() and we've got a trained spam filter ready to go! It's just that easy."
   ]
  },
  {
   "cell_type": "code",
   "execution_count": 31,
   "metadata": {},
   "outputs": [
    {
     "data": {
      "text/plain": [
       "MultinomialNB(alpha=1.0, class_prior=None, fit_prior=True)"
      ]
     },
     "execution_count": 31,
     "metadata": {},
     "output_type": "execute_result"
    }
   ],
   "source": [
    "vectorizer = CountVectorizer()\n",
    "counts = vectorizer.fit_transform(training_data['message'].values)\n",
    "\n",
    "classifier = MultinomialNB()\n",
    "targets = training_data['class'].values\n",
    "classifier.fit(counts, targets)"
   ]
  },
  {
   "cell_type": "markdown",
   "metadata": {},
   "source": [
    "Let's try it out:"
   ]
  },
  {
   "cell_type": "code",
   "execution_count": 46,
   "metadata": {},
   "outputs": [
    {
     "data": {
      "text/plain": [
       "0.948"
      ]
     },
     "execution_count": 46,
     "metadata": {},
     "output_type": "execute_result"
    }
   ],
   "source": [
    "test_counts = vectorizer.transform(test_data['message'].values)\n",
    "predictions = classifier.predict(test_counts)\n",
    "success = 0\n",
    "for index, prediction in enumerate(predictions):\n",
    "    if prediction == test_data['class'].values[index]:\n",
    "        success += 1\n",
    "correctRate = success / test_data.shape[0]\n",
    "correctRate"
   ]
  },
  {
   "cell_type": "markdown",
   "metadata": {},
   "source": [
    "## Activity"
   ]
  },
  {
   "cell_type": "markdown",
   "metadata": {},
   "source": [
    "Our data set is small, so our spam classifier isn't actually very good. Try running some different test emails through it and see if you get the results you expect.\n",
    "\n",
    "If you really want to challenge yourself, try applying train/test to this spam classifier - see how well it can predict some subset of the ham and spam emails."
   ]
  },
  {
   "cell_type": "code",
   "execution_count": null,
   "metadata": {},
   "outputs": [],
   "source": []
  }
 ],
 "metadata": {
  "kernelspec": {
   "display_name": "Python 3",
   "language": "python",
   "name": "python3"
  },
  "language_info": {
   "codemirror_mode": {
    "name": "ipython",
    "version": 3
   },
   "file_extension": ".py",
   "mimetype": "text/x-python",
   "name": "python",
   "nbconvert_exporter": "python",
   "pygments_lexer": "ipython3",
   "version": "3.5.2"
  }
 },
 "nbformat": 4,
 "nbformat_minor": 1
}
