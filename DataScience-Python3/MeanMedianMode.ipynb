{
 "cells": [
  {
   "cell_type": "markdown",
   "metadata": {},
   "source": [
    "# Mean, Median, Mode, and introducing NumPy"
   ]
  },
  {
   "cell_type": "markdown",
   "metadata": {},
   "source": [
    "## Mean vs. Median"
   ]
  },
  {
   "cell_type": "markdown",
   "metadata": {},
   "source": [
    "Let's create some fake income data, centered around 27,000 with a normal distribution and standard deviation of 15,000, with 10,000 data points. (We'll discuss those terms more later, if you're not familiar with them.)\n",
    "\n",
    "Then, compute the mean (average) - it should be close to 27,000:"
   ]
  },
  {
   "cell_type": "code",
   "execution_count": 3,
   "metadata": {},
   "outputs": [
    {
     "data": {
      "text/plain": [
       "26597.031697853618"
      ]
     },
     "execution_count": 3,
     "metadata": {},
     "output_type": "execute_result"
    }
   ],
   "source": [
    "import numpy as np\n",
    "\n",
    "incomes = np.random.normal(27000, 15000, 10000)\n",
    "np.mean(incomes)"
   ]
  },
  {
   "cell_type": "markdown",
   "metadata": {},
   "source": [
    "We can segment the income data into 50 buckets, and plot it as a histogram:"
   ]
  },
  {
   "cell_type": "code",
   "execution_count": 4,
   "metadata": {},
   "outputs": [
    {
     "data": {
      "image/png": "[encoded data removed]",
      "text/plain": [
       "<matplotlib.figure.Figure at 0x7f0360077b70>"
      ]
     },
     "metadata": {},
     "output_type": "display_data"
    }
   ],
   "source": [
    "%matplotlib inline\n",
    "import matplotlib.pyplot as plt\n",
    "plt.hist(incomes, 50)\n",
    "plt.show()"
   ]
  },
  {
   "cell_type": "markdown",
   "metadata": {},
   "source": [
    "Now compute the median - since we have a nice, even distribution it too should be close to 27,000:"
   ]
  },
  {
   "cell_type": "code",
   "execution_count": 5,
   "metadata": {},
   "outputs": [
    {
     "data": {
      "text/plain": [
       "26674.4183965365"
      ]
     },
     "execution_count": 5,
     "metadata": {},
     "output_type": "execute_result"
    }
   ],
   "source": [
    "np.median(incomes)"
   ]
  },
  {
   "cell_type": "markdown",
   "metadata": {},
   "source": [
    "Now we'll add Donald Trump into the mix. Darn income inequality!"
   ]
  },
  {
   "cell_type": "code",
   "execution_count": 6,
   "metadata": {},
   "outputs": [],
   "source": [
    "incomes = np.append(incomes, [1000000000])"
   ]
  },
  {
   "cell_type": "markdown",
   "metadata": {},
   "source": [
    "The median won't change much, but the mean does:"
   ]
  },
  {
   "cell_type": "code",
   "execution_count": 7,
   "metadata": {},
   "outputs": [
    {
     "data": {
      "text/plain": [
       "26675.303874065707"
      ]
     },
     "execution_count": 7,
     "metadata": {},
     "output_type": "execute_result"
    }
   ],
   "source": [
    "np.median(incomes)"
   ]
  },
  {
   "cell_type": "code",
   "execution_count": 8,
   "metadata": {},
   "outputs": [
    {
     "data": {
      "text/plain": [
       "126584.37326052756"
      ]
     },
     "execution_count": 8,
     "metadata": {},
     "output_type": "execute_result"
    }
   ],
   "source": [
    "np.mean(incomes)"
   ]
  },
  {
   "cell_type": "markdown",
   "metadata": {},
   "source": [
    "## Mode"
   ]
  },
  {
   "cell_type": "markdown",
   "metadata": {},
   "source": [
    "Next, let's generate some fake age data for 500 people:"
   ]
  },
  {
   "cell_type": "code",
   "execution_count": 9,
   "metadata": {},
   "outputs": [
    {
     "data": {
      "text/plain": [
       "array([50, 63, 26, 86, 34, 69, 67, 89, 69, 43, 20, 81, 87, 52, 79, 53, 77,\n",
       "       73, 67, 49, 52, 53, 80, 34, 47, 75, 53, 29, 56, 79, 65, 44, 26, 73,\n",
       "       85, 21, 64, 72, 77, 88, 70, 27, 88, 56, 54, 62, 20, 72, 29, 23, 19,\n",
       "       56, 23, 47, 57, 82, 33, 29, 66, 31, 26, 81, 37, 38, 47, 67, 24, 74,\n",
       "       40, 25, 71, 71, 79, 49, 59, 32, 48, 30, 46, 63, 26, 22, 18, 40, 21,\n",
       "       34, 57, 61, 32, 85, 69, 70, 62, 79, 58, 60, 79, 58, 39, 70, 42, 24,\n",
       "       56, 54, 77, 89, 38, 88, 38, 51, 41, 36, 80, 54, 27, 73, 23, 40, 67,\n",
       "       44, 47, 87, 75, 38, 78, 72, 54, 50, 52, 84, 48, 44, 89, 64, 51, 18,\n",
       "       74, 34, 80, 74, 86, 71, 31, 72, 75, 58, 79, 60, 20, 72, 57, 24, 27,\n",
       "       64, 88, 30, 86, 20, 70, 45, 88, 34, 78, 45, 79, 86, 21, 68, 50, 43,\n",
       "       60, 54, 64, 32, 47, 73, 72, 41, 77, 69, 65, 73, 42, 81, 73, 18, 45,\n",
       "       54, 66, 85, 39, 59, 66, 40, 45, 49, 34, 65, 31, 51, 76, 66, 23, 79,\n",
       "       47, 80, 73, 28, 76, 73, 80, 67, 65, 41, 29, 43, 63, 28, 61, 76, 55,\n",
       "       87, 50, 68, 36, 42, 47, 72, 33, 61, 67, 86, 53, 64, 68, 49, 52, 26,\n",
       "       69, 71, 89, 82, 56, 52, 33, 74, 45, 66, 23, 28, 40, 62, 72, 84, 44,\n",
       "       19, 80, 39, 32, 39, 84, 62, 28, 64, 66, 79, 25, 87, 84, 66, 89, 30,\n",
       "       71, 39, 38, 65, 53, 70, 78, 51, 59, 70, 47, 29, 70, 83, 22, 89, 57,\n",
       "       44, 73, 22, 50, 33, 51, 64, 75, 45, 76, 40, 64, 49, 51, 52, 60, 89,\n",
       "       58, 35, 77, 62, 55, 40, 73, 25, 61, 25, 34, 63, 35, 48, 66, 49, 72,\n",
       "       21, 42, 80, 40, 57, 24, 41, 24, 55, 88, 73, 22, 32, 60, 29, 52, 86,\n",
       "       23, 84, 35, 30, 80, 78, 35, 50, 69, 77, 82, 32, 33, 47, 38, 63, 79,\n",
       "       63, 43, 32, 42, 89, 43, 35, 54, 83, 59, 57, 50, 72, 84, 80, 87, 60,\n",
       "       67, 31, 25, 88, 83, 41, 48, 34, 76, 70, 78, 75, 73, 66, 46, 31, 35,\n",
       "       69, 89, 26, 42, 74, 55, 30, 50, 35, 85, 75, 71, 30, 65, 33, 35, 48,\n",
       "       75, 57, 58, 87, 74, 75, 41, 85, 38, 77, 61, 33, 50, 85, 89, 80, 34,\n",
       "       20, 65, 40, 40, 18, 64, 21, 32, 86, 43, 73, 59, 73, 28, 84, 36, 52,\n",
       "       88, 84, 23, 81, 66, 50, 31, 55, 70, 77, 35, 26, 39, 58, 47, 30, 22,\n",
       "       37, 85, 87, 68, 33, 87, 28, 40, 21, 59, 84, 82, 66, 29, 19, 57, 66,\n",
       "       22, 53, 65, 54, 50, 40, 23, 84, 79, 48, 73, 21, 56, 75, 75, 51, 43,\n",
       "       75, 28, 55, 57, 19, 75, 44])"
      ]
     },
     "execution_count": 9,
     "metadata": {},
     "output_type": "execute_result"
    }
   ],
   "source": [
    "ages = np.random.randint(18, high=90, size=500)\n",
    "ages"
   ]
  },
  {
   "cell_type": "code",
   "execution_count": 10,
   "metadata": {},
   "outputs": [
    {
     "data": {
      "text/plain": [
       "ModeResult(mode=array([73]), count=array([15]))"
      ]
     },
     "execution_count": 10,
     "metadata": {},
     "output_type": "execute_result"
    }
   ],
   "source": [
    "from scipy import stats\n",
    "stats.mode(ages)"
   ]
  },
  {
   "cell_type": "code",
   "execution_count": null,
   "metadata": {},
   "outputs": [],
   "source": []
  }
 ],
 "metadata": {
  "kernelspec": {
   "display_name": "Python 3",
   "language": "python",
   "name": "python3"
  },
  "language_info": {
   "codemirror_mode": {
    "name": "ipython",
    "version": 3
   },
   "file_extension": ".py",
   "mimetype": "text/x-python",
   "name": "python",
   "nbconvert_exporter": "python",
   "pygments_lexer": "ipython3",
   "version": "3.5.2"
  }
 },
 "nbformat": 4,
 "nbformat_minor": 1
}
